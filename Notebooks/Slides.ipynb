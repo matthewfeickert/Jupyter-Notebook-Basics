{
 "cells": [
  {
   "cell_type": "markdown",
   "metadata": {
    "slideshow": {
     "slide_type": "slide"
    }
   },
   "source": [
    "# Slides in Jupyter Notebook\n",
    "\n",
    "To navigate forward through the presentation press `space`"
   ]
  },
  {
   "cell_type": "markdown",
   "metadata": {
    "slideshow": {
     "slide_type": "fragment"
    }
   },
   "source": [
    "To navigate backwards use `shift + space`\n",
    "\n",
    "You can also use the arrow keys"
   ]
  },
  {
   "cell_type": "markdown",
   "metadata": {
    "slideshow": {
     "slide_type": "slide"
    }
   },
   "source": [
    "Creating a [`Reveal.js` HTML](https://revealjs.com/#/) powered slideshow in a Jupyter notebook is straightforward and requires only a little setup"
   ]
  },
  {
   "cell_type": "markdown",
   "metadata": {
    "slideshow": {
     "slide_type": "fragment"
    }
   },
   "source": [
    "[Matthew Speck](https://twitter.com/mjspeck) has a [nice writeup](https://medium.com/@mjspeck/presenting-code-using-jupyter-notebook-slides-a8a3c3b59d67) on how to do this"
   ]
  },
  {
   "cell_type": "markdown",
   "metadata": {
    "slideshow": {
     "slide_type": "fragment"
    }
   },
   "source": [
    "However the rest of this Notebook will also show you how to set things up"
   ]
  },
  {
   "cell_type": "markdown",
   "metadata": {
    "slideshow": {
     "slide_type": "slide"
    }
   },
   "source": [
    "# Turning on `Slideshow` options\n",
    "\n",
    "To start with, click on the `View` tab in the toolbar, and then select `Cell Toolbar` &rarr; `Slideshow`"
   ]
  },
  {
   "cell_type": "markdown",
   "metadata": {
    "slideshow": {
     "slide_type": "fragment"
    }
   },
   "source": [
    "This will now result in a `Slide Type` formatting menu showing up for every cell in the Notebook. The menu allows you to select between the cell being a\n",
    "- Slide\n",
    "- Sub-Slide\n",
    "- Fragment\n",
    "- Skip\n",
    "- Notes"
   ]
  },
  {
   "cell_type": "markdown",
   "metadata": {
    "slideshow": {
     "slide_type": "fragment"
    }
   },
   "source": [
    "[Damián Avila](http://www.damian.oquanta.info/) has a [nice Jupyter slideshow that explains all of these concepts more fully](http://www.slideviper.oquanta.info/tutorial/slideshow_tutorial_slides.html#/)"
   ]
  },
  {
   "cell_type": "markdown",
   "metadata": {
    "slideshow": {
     "slide_type": "slide"
    }
   },
   "source": [
    "# Full Jupyter Funcationality\n",
    "\n",
    "In a Jupyter slideshow you still have the same abilities you have in a normal notebook (use `space` or your `PgDn` key to see below!)"
   ]
  },
  {
   "cell_type": "markdown",
   "metadata": {
    "slideshow": {
     "slide_type": "subslide"
    }
   },
   "source": [
    "# LaTeX Mardown\n",
    "\n",
    "$$\n",
    "\\Theta\\left(x\\right) = \\left\\{\n",
    "\\begin{array}{ll}\n",
    "0, & x \\leq 0,\\\\\n",
    "1, & x > 1\n",
    "\\end{array}\n",
    "\\right.\n",
    "$$"
   ]
  },
  {
   "cell_type": "markdown",
   "metadata": {
    "slideshow": {
     "slide_type": "subslide"
    }
   },
   "source": [
    "# Magics\n",
    "\n",
    "<img src=\"https://freethoughtblogs.com/affinity/files/2017/06/good-news-everyone.jpg\">\n",
    "<h2>Jupyter Notebooks can render HTML</h2>"
   ]
  },
  {
   "cell_type": "markdown",
   "metadata": {
    "slideshow": {
     "slide_type": "subslide"
    }
   },
   "source": [
    "# IPython Features"
   ]
  },
  {
   "cell_type": "code",
   "execution_count": 1,
   "metadata": {
    "slideshow": {
     "slide_type": "fragment"
    }
   },
   "outputs": [
    {
     "data": {
      "text/html": [
       "<iframe width=\"560\" height=\"315\" src=\"https://www.youtube.com/embed/MTFY0H4EZx4?start=70&end=130\" frameborder=\"0\" allow=\"autoplay; encrypted-media\" allowfullscreen></iframe>"
      ],
      "text/plain": [
       "<IPython.core.display.HTML object>"
      ]
     },
     "execution_count": 1,
     "metadata": {},
     "output_type": "execute_result"
    }
   ],
   "source": [
    "from IPython.display import HTML\n",
    "HTML('<iframe width=\"560\" height=\"315\" src=\"https://www.youtube.com/embed/MTFY0H4EZx4?start=70&end=130\" frameborder=\"0\" allow=\"autoplay; encrypted-media\" allowfullscreen></iframe>')"
   ]
  },
  {
   "cell_type": "markdown",
   "metadata": {
    "slideshow": {
     "slide_type": "slide"
    }
   },
   "source": [
    "# Turning the notebook into a slideshow\n",
    "\n",
    "Once you have your slides together then you can use the [`nbconvert` utility](http://nbconvert.readthedocs.io/en/latest/usage.html#convert-revealjs) on the command line to turn them into the (static HTML) presentation\n",
    "\n",
    "```\n",
    "$ jupyter nbconvert your-notebook-name.ipynb --to slides --post serve\n",
    "```"
   ]
  },
  {
   "cell_type": "markdown",
   "metadata": {
    "slideshow": {
     "slide_type": "slide"
    }
   },
   "source": [
    "# Interactive Presentations\n",
    "\n",
    "By default `nbconvert` will crete a static presentation\n",
    "\n",
    "To create an interactive presentation we can use the [RISE Jupyter plugin](https://github.com/damianavila/RISE) created by [Damián Avila](http://www.damian.oquanta.info/)."
   ]
  },
  {
   "cell_type": "markdown",
   "metadata": {
    "slideshow": {
     "slide_type": "slide"
    }
   },
   "source": [
    "# Installing RISE\n",
    "\n",
    "The recommended way to install RISE is with Conda\n",
    "\n",
    "```\n",
    "conda install -c damianavila82 rise\n",
    "```\n",
    "\n",
    "After installing RISE [watch the 4 minute tutorial video](RISE quick mini tutorial)"
   ]
  },
  {
   "cell_type": "code",
   "execution_count": 2,
   "metadata": {
    "slideshow": {
     "slide_type": "fragment"
    }
   },
   "outputs": [
    {
     "data": {
      "text/html": [
       "<iframe width=\"560\" height=\"315\" src=\"https://www.youtube.com/embed/sXyFa_r1nxA\" frameborder=\"0\" allow=\"autoplay; encrypted-media\" allowfullscreen></iframe>"
      ],
      "text/plain": [
       "<IPython.core.display.HTML object>"
      ]
     },
     "execution_count": 2,
     "metadata": {},
     "output_type": "execute_result"
    }
   ],
   "source": [
    "HTML('<iframe width=\"560\" height=\"315\" src=\"https://www.youtube.com/embed/sXyFa_r1nxA\" frameborder=\"0\" allow=\"autoplay; encrypted-media\" allowfullscreen></iframe>')"
   ]
  },
  {
   "cell_type": "markdown",
   "metadata": {
    "slideshow": {
     "slide_type": "slide"
    }
   },
   "source": [
    "# We now have a fully functional Jupyter notebook in a presentation!\n",
    "\n",
    "Run the cell below just like you normally would"
   ]
  },
  {
   "cell_type": "code",
   "execution_count": null,
   "metadata": {
    "slideshow": {
     "slide_type": "fragment"
    }
   },
   "outputs": [],
   "source": [
    "# Run this cell\n",
    "import numpy as np\n",
    "import matplotlib.mlab as mlab\n",
    "import matplotlib.pyplot as plt"
   ]
  },
  {
   "cell_type": "code",
   "execution_count": null,
   "metadata": {
    "slideshow": {
     "slide_type": "slide"
    }
   },
   "outputs": [],
   "source": [
    "def plot_example(mean=100, width=15, n_bins=50):\n",
    "    #https://matplotlib.org/examples/statistics/histogram_demo_features.html\n",
    "    np.random.seed(0)\n",
    "\n",
    "    # example data\n",
    "    mu = mean  # mean of distribution\n",
    "    sigma = width  # standard deviation of distribution\n",
    "    x = mu + sigma * np.random.randn(437)\n",
    "\n",
    "    num_bins = n_bins\n",
    "\n",
    "    fig, ax = plt.subplots()\n",
    "\n",
    "    # the histogram of the data\n",
    "    n, bins, patches = ax.hist(x, num_bins, normed=1)\n",
    "\n",
    "    # add a 'best fit' line\n",
    "    y = mlab.normpdf(bins, mu, sigma)\n",
    "    ax.plot(bins, y, '--')\n",
    "    ax.set_xlabel('x')\n",
    "    ax.set_ylabel('Probability density')\n",
    "    ax.set_title(r'$f\\left(x|\\,\\mu, \\sigma\\right)$: $\\mu={0}$, $\\sigma={1}$'.format(mu, sigma))\n",
    "\n",
    "    fig.tight_layout()\n",
    "    plt.show()"
   ]
  },
  {
   "cell_type": "code",
   "execution_count": null,
   "metadata": {
    "slideshow": {
     "slide_type": "slide"
    }
   },
   "outputs": [],
   "source": [
    "plot_example()"
   ]
  },
  {
   "cell_type": "markdown",
   "metadata": {
    "slideshow": {
     "slide_type": "slide"
    }
   },
   "source": [
    "# Automatically launch notebook in RISE \n",
    "\n",
    "To have the notebook launch in RISE you need to manually edit the metadata. As outlined by [Chris Holdgraf](https://github.com/binder-examples/jupyter-rise), open the notebook with a text editor and add the following JSON snippet to the bottom of the notebook (just above the `\"nbformat\"` tag):\n",
    "```JSON\n",
    "\"livereveal\": {\n",
    "        \"autolaunch\": true\n",
    "        },\n",
    "```"
   ]
  }
 ],
 "metadata": {
  "celltoolbar": "Slideshow",
  "kernelspec": {
   "display_name": "Python [conda root]",
   "language": "python",
   "name": "conda-root-py"
  },
  "language_info": {
   "codemirror_mode": {
    "name": "ipython",
    "version": 3
   },
   "file_extension": ".py",
   "mimetype": "text/x-python",
   "name": "python",
   "nbconvert_exporter": "python",
   "pygments_lexer": "ipython3",
   "version": "3.5.4"
  },
  "livereveal": {
   "autolaunch": true
  },
  "widgets": {
   "application/vnd.jupyter.widget-state+json": {
    "state": {},
    "version_major": 2,
    "version_minor": 0
   }
  }
 },
 "nbformat": 4,
 "nbformat_minor": 2
}
